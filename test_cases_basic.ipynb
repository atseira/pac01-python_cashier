{
 "cells": [
  {
   "cell_type": "code",
   "execution_count": 24,
   "id": "31a128e6",
   "metadata": {},
   "outputs": [],
   "source": [
    "from orders import *"
   ]
  },
  {
   "cell_type": "markdown",
   "id": "42e95031",
   "metadata": {},
   "source": [
    "### Test 1\n",
    "Customer ingin menambahkan dua item baru menggunakan method add_item(). Item yang ditambahkan adalah sebagai berikut:\n",
    "Nama Item: Ayam Goreng, Qty: 2, Harga: 20000\n",
    "Nama Item: Pasta Gigi, Qty: 3, Harga: 15000"
   ]
  },
  {
   "cell_type": "code",
   "execution_count": 25,
   "id": "076d616b",
   "metadata": {},
   "outputs": [
    {
     "name": "stdout",
     "output_type": "stream",
     "text": [
      "Pemesanan sudah benar: {'Ayam Goreng': [2, 20000]}\n",
      "Pemesanan sudah benar: {'Pasta Gigi': [3, 15000]}\n"
     ]
    }
   ],
   "source": [
    "trx = Transaction()\n",
    "trx.add_item(\"Ayam Goreng\", 2, 20000)\n",
    "trx.add_item(\"Pasta Gigi\", 3, 15000)"
   ]
  },
  {
   "cell_type": "code",
   "execution_count": 26,
   "id": "3ef137db",
   "metadata": {},
   "outputs": [
    {
     "name": "stdout",
     "output_type": "stream",
     "text": [
      "Item yang dibeli adalah: {'Ayam Goreng': [2, 20000], 'Pasta Gigi': [3, 15000]}\n"
     ]
    }
   ],
   "source": [
    "print(f\"Item yang dibeli adalah: {trx}\")"
   ]
  },
  {
   "cell_type": "markdown",
   "id": "4a187338",
   "metadata": {},
   "source": [
    "### Test 2\n",
    "\n",
    "Ternyata Customer salah membeli salah satu item dari belanjaan yang sudah ditambahkan, maka Customer menggunakan method delete_item() untuk menghapus item. Item yang ingin dihapuskan adalah Pasta Gigi."
   ]
  },
  {
   "cell_type": "code",
   "execution_count": 27,
   "id": "8f8f6f72",
   "metadata": {},
   "outputs": [],
   "source": [
    "trx.delete_item(\"Pasta Gigi\")"
   ]
  },
  {
   "cell_type": "code",
   "execution_count": 28,
   "id": "c4380211",
   "metadata": {},
   "outputs": [
    {
     "name": "stdout",
     "output_type": "stream",
     "text": [
      "Item yang dibeli adalah: {'Ayam Goreng': [2, 20000]}\n"
     ]
    }
   ],
   "source": [
    "print(f\"Item yang dibeli adalah: {trx}\")"
   ]
  },
  {
   "cell_type": "markdown",
   "id": "802feaa8",
   "metadata": {},
   "source": [
    "### Test 3\n",
    "\n",
    "Ternyata setelah dipikir - pikir Customer salah memasukkan item yang ingin dibelanjakan! Daripada menghapusnya satu - satu, maka Customer cukup menggunakan method reset_transaction() untuk menghapus semua item yang sudah ditambahkan."
   ]
  },
  {
   "cell_type": "code",
   "execution_count": 29,
   "id": "7dcf6b88",
   "metadata": {},
   "outputs": [
    {
     "name": "stdout",
     "output_type": "stream",
     "text": [
      "Semua item berhasil di-delete!\n"
     ]
    }
   ],
   "source": [
    "trx.reset_transaction()"
   ]
  },
  {
   "cell_type": "code",
   "execution_count": 30,
   "id": "020fe4f4",
   "metadata": {},
   "outputs": [
    {
     "name": "stdout",
     "output_type": "stream",
     "text": [
      "Item yang dibeli adalah: {}\n"
     ]
    }
   ],
   "source": [
    "print(f\"Item yang dibeli adalah: {trx}\")"
   ]
  },
  {
   "cell_type": "markdown",
   "id": "1c4dc919",
   "metadata": {},
   "source": [
    "### Test 4\n",
    "\n",
    "Setelah Customer selesai berbelanja, akan menghitung total belanja yang harus dibayarkan menggunakan method check_out() . Sebelum mengeluarkan output total belanja akan menampilkan item-item yang dibeli. Setelahnya, data transaksi akan dimasukkan ke dalam database. Kita import dulu modul `db_helper` untuk cek hasil input di database."
   ]
  },
  {
   "cell_type": "code",
   "execution_count": 31,
   "id": "3b8ec17b",
   "metadata": {},
   "outputs": [],
   "source": [
    "from db_helper import show_detailed_transactions, delete_tables_data"
   ]
  },
  {
   "cell_type": "markdown",
   "id": "0593a97b",
   "metadata": {},
   "source": [
    "(Opsional) Kita hapus seluruh data table di database (opsional) supaya mudah mengecek hasil transaksi yang terinput ke dalam database. Disarankan jika sebelumnya sudah pernah menjalankan notebook ini. "
   ]
  },
  {
   "cell_type": "code",
   "execution_count": 43,
   "id": "5c127a06",
   "metadata": {},
   "outputs": [],
   "source": [
    "delete_tables_data()"
   ]
  },
  {
   "cell_type": "markdown",
   "id": "0a13ba46",
   "metadata": {},
   "source": [
    "Kita set item-item yang dibeli:\n",
    "* Ayam Goreng, 2, 20_000\n",
    "* Pasta Gigi, 3, 15_000\n",
    "* Mainan Mobil, 1, 200_000\n",
    "* Mi Instan, 5, 3000\n",
    "\n",
    "Lalu di dalam kode juga diset bahwa promo yang digunakan adalah yang berdasarkan transaksi. Diskon dihitung berdasarkan total penjumlahan dari subtotal harga per item."
   ]
  },
  {
   "cell_type": "code",
   "execution_count": 33,
   "id": "71b416e9",
   "metadata": {},
   "outputs": [
    {
     "name": "stdout",
     "output_type": "stream",
     "text": [
      "Pemesanan sudah benar: {'Ayam Goreng': [2, 20000]}\n",
      "Pemesanan sudah benar: {'Pasta Gigi': [3, 15000]}\n",
      "Pemesanan sudah benar: {'Mainan Mobil': [1, 200000]}\n",
      "Pemesanan sudah benar: {'Mi Instan': [5, 3000]}\n",
      "Item yang dibeli adalah: {'Ayam Goreng': [2, 20000], 'Pasta Gigi': [3, 15000], 'Mainan Mobil': [1, 200000], 'Mi Instan': [5, 3000]}\n"
     ]
    }
   ],
   "source": [
    "trx = Transaction()\n",
    "trx.set_promo(promos.BY_TRX)\n",
    "trx.add_item(\"Ayam Goreng\", 2, 20_000)\n",
    "trx.add_item(\"Pasta Gigi\", 3, 15_000)\n",
    "trx.add_item(\"Mainan Mobil\", 1, 200_000)\n",
    "trx.add_item(\"Mi Instan\", 5, 3000)\n",
    "print(f\"Item yang dibeli adalah: {trx}\")"
   ]
  },
  {
   "cell_type": "code",
   "execution_count": 34,
   "id": "60ec9799",
   "metadata": {},
   "outputs": [
    {
     "name": "stdout",
     "output_type": "stream",
     "text": [
      "Total belanja: 285,000.0\n",
      "Total diskon: 5.00%\n"
     ]
    }
   ],
   "source": [
    "trx.check_out()"
   ]
  },
  {
   "cell_type": "code",
   "execution_count": 35,
   "id": "97772c2d",
   "metadata": {},
   "outputs": [
    {
     "name": "stdout",
     "output_type": "stream",
     "text": [
      "  id    total_harga_rp    diskon_persen    harga_diskon_rp  nama_item       jumlah_item    harga_item\n",
      "----  ----------------  ---------------  -----------------  ------------  -------------  ------------\n",
      "   1            300000                5             285000  Ayam Goreng               2         20000\n",
      "   1            300000                5             285000  Pasta Gigi                3         15000\n",
      "   1            300000                5             285000  Mainan Mobil              1        200000\n",
      "   1            300000                5             285000  Mi Instan                 5          3000\n"
     ]
    }
   ],
   "source": [
    "from db_helper import show_detailed_transactions, delete_tables_data\n",
    "\n",
    "show_detailed_transactions()"
   ]
  },
  {
   "cell_type": "markdown",
   "id": "95f61662",
   "metadata": {},
   "source": [
    "#### Variasi promo\n",
    "\n",
    "Jika menggunakan tipe promo lain, yakni berdasarkan per item. Besaran diskon bisa berbeda. Kita coba gunakan transaksi yang sama."
   ]
  },
  {
   "cell_type": "code",
   "execution_count": 36,
   "id": "72f27f9a",
   "metadata": {},
   "outputs": [
    {
     "name": "stdout",
     "output_type": "stream",
     "text": [
      "                Item     Qty    Price\n",
      "------------  ------  ------  -------\n",
      "Ayam Goreng        2   20000    40000\n",
      "Pasta Gigi         3   15000    45000\n",
      "Mainan Mobil       1  200000   200000\n",
      "Mi Instan          5    3000    15000\n"
     ]
    }
   ],
   "source": [
    "trx.check_order()"
   ]
  },
  {
   "cell_type": "code",
   "execution_count": 37,
   "id": "b0e26e14",
   "metadata": {},
   "outputs": [
    {
     "name": "stdout",
     "output_type": "stream",
     "text": [
      "Total belanja: 300,000\n",
      "Total diskon: 0.00%\n"
     ]
    }
   ],
   "source": [
    "trx.set_promo(promos.BY_ITEM)\n",
    "trx.check_out()"
   ]
  },
  {
   "cell_type": "code",
   "execution_count": 38,
   "id": "71cfb162",
   "metadata": {},
   "outputs": [
    {
     "name": "stdout",
     "output_type": "stream",
     "text": [
      "  id    total_harga_rp    diskon_persen    harga_diskon_rp  nama_item       jumlah_item    harga_item\n",
      "----  ----------------  ---------------  -----------------  ------------  -------------  ------------\n",
      "   1            300000                5             285000  Ayam Goreng               2         20000\n",
      "   1            300000                5             285000  Pasta Gigi                3         15000\n",
      "   1            300000                5             285000  Mainan Mobil              1        200000\n",
      "   1            300000                5             285000  Mi Instan                 5          3000\n",
      "   2            300000                0             300000  Ayam Goreng               2         20000\n",
      "   2            300000                0             300000  Pasta Gigi                3         15000\n",
      "   2            300000                0             300000  Mainan Mobil              1        200000\n",
      "   2            300000                0             300000  Mi Instan                 5          3000\n"
     ]
    }
   ],
   "source": [
    "show_detailed_transactions()"
   ]
  },
  {
   "cell_type": "code",
   "execution_count": 39,
   "id": "1bf90f39",
   "metadata": {},
   "outputs": [
    {
     "name": "stdout",
     "output_type": "stream",
     "text": [
      "Semua item berhasil di-delete!\n"
     ]
    }
   ],
   "source": [
    "trx.reset_transaction()"
   ]
  },
  {
   "cell_type": "code",
   "execution_count": 40,
   "id": "e903e22b",
   "metadata": {},
   "outputs": [
    {
     "name": "stdout",
     "output_type": "stream",
     "text": [
      "Pemesanan sudah benar: {'Mainan Tamiya Paket': [1, 300000]}\n",
      "Pemesanan sudah benar: {'Keyboard Mekanik': [1, 2000000]}\n",
      "Item yang dibeli adalah: {'Mainan Tamiya Paket': [1, 300000], 'Keyboard Mekanik': [1, 2000000]}\n"
     ]
    }
   ],
   "source": [
    "trx.add_item(\"Mainan Tamiya Paket\", 1, 300_000)\n",
    "trx.add_item(\"Keyboard Mekanik\", 1, 2_000_000)\n",
    "print(f\"Item yang dibeli adalah: {trx}\")"
   ]
  },
  {
   "cell_type": "code",
   "execution_count": 41,
   "id": "bc00c6b3",
   "metadata": {},
   "outputs": [
    {
     "name": "stdout",
     "output_type": "stream",
     "text": [
      "Total belanja: 2,145,000.0\n",
      "Total diskon: 6.74%\n"
     ]
    }
   ],
   "source": [
    "trx.check_out()"
   ]
  },
  {
   "cell_type": "code",
   "execution_count": 42,
   "id": "823dc94c",
   "metadata": {},
   "outputs": [
    {
     "name": "stdout",
     "output_type": "stream",
     "text": [
      "  id    total_harga_rp    diskon_persen    harga_diskon_rp  nama_item              jumlah_item    harga_item\n",
      "----  ----------------  ---------------  -----------------  -------------------  -------------  ------------\n",
      "   1            300000          5                   285000  Ayam Goreng                      2         20000\n",
      "   1            300000          5                   285000  Pasta Gigi                       3         15000\n",
      "   1            300000          5                   285000  Mainan Mobil                     1        200000\n",
      "   1            300000          5                   285000  Mi Instan                        5          3000\n",
      "   2            300000          0                   300000  Ayam Goreng                      2         20000\n",
      "   2            300000          0                   300000  Pasta Gigi                       3         15000\n",
      "   2            300000          0                   300000  Mainan Mobil                     1        200000\n",
      "   2            300000          0                   300000  Mi Instan                        5          3000\n",
      "   3           2300000          6.73913            2145000  Mainan Tamiya Paket              1        300000\n",
      "   3           2300000          6.73913            2145000  Keyboard Mekanik                 1       2000000\n"
     ]
    }
   ],
   "source": [
    "show_detailed_transactions()"
   ]
  }
 ],
 "metadata": {
  "kernelspec": {
   "display_name": "Python 3 (ipykernel)",
   "language": "python",
   "name": "python3"
  },
  "language_info": {
   "codemirror_mode": {
    "name": "ipython",
    "version": 3
   },
   "file_extension": ".py",
   "mimetype": "text/x-python",
   "name": "python",
   "nbconvert_exporter": "python",
   "pygments_lexer": "ipython3",
   "version": "3.10.9"
  }
 },
 "nbformat": 4,
 "nbformat_minor": 5
}
